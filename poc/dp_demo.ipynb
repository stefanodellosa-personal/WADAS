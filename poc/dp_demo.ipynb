{
 "cells": [
  {
   "cell_type": "code",
   "execution_count": null,
   "metadata": {},
   "outputs": [],
   "source": [
    "# Importing necessary basic libraries and modules\n",
    "import classify_detections\n",
    "from PIL import Image\n",
    "import numpy as np\n",
    "import requests\n",
    "import torch\n",
    "import os\n",
    "import cv2\n",
    "from PytorchWildlife.models import detection as pw_detection\n",
    "from PytorchWildlife.data import transforms as pw_trans\n",
    "from PytorchWildlife import utils as pw_utils\n"
   ]
  },
  {
   "cell_type": "code",
   "execution_count": null,
   "metadata": {},
   "outputs": [],
   "source": [
    "# Setting the device to use for computations ('cuda' indicates GPU, \"npu\" indicates intel NPU)\n",
    "DEVICE = \"cuda\" if torch.cuda.is_available() else \"cpu\"\n",
    "\n",
    "# Initializing the MegaDetectorV5 model for image detection\n",
    "print(f\"Initializing MegaDetectorV5 model for image detection to device {DEVICE}...\")\n",
    "detection_model = pw_detection.MegaDetectorV5(device=DEVICE, pretrained=True)"
   ]
  },
  {
   "cell_type": "code",
   "execution_count": null,
   "metadata": {},
   "outputs": [],
   "source": [
    "\n",
    "# Specifying the path to the target image\n",
    "url = \"https://raw.githubusercontent.com/microsoft/CameraTraps/main/demo/demo_data/imgs/10050028_0.JPG\"\n",
    "\n",
    "# Opening and converting the image to RGB format\n",
    "img = Image.open(requests.get(url, stream=True).raw).convert(\"RGB\")\n",
    "orig_image = img\n",
    "\n",
    "# Save to disk\n",
    "os.makedirs(\"demo_output\", exist_ok=True)\n",
    "img_path = os.path.join(\"demo_output\", \"detected_camera_image_xyz_timestamp_xxx.jpg\")\n",
    "img.save(img_path)\n",
    "\n",
    "img = np.array(img)\n",
    "img.shape, img.dtype\n"
   ]
  },
  {
   "cell_type": "code",
   "execution_count": null,
   "metadata": {},
   "outputs": [],
   "source": [
    "# Initializing the Yolo-specific transform for the image\n",
    "transform = pw_trans.MegaDetector_v5_Transform(target_size=detection_model.IMAGE_SIZE,\n",
    "                                               stride=detection_model.STRIDE)"
   ]
  },
  {
   "cell_type": "code",
   "execution_count": null,
   "metadata": {},
   "outputs": [],
   "source": [
    "# Performing the detection on the single image\n",
    "results = detection_model.single_image_detection(transform(img), img.shape, img_path)\n",
    "# Detection results\n",
    "for key in results:\n",
    "    print(key, results[key])"
   ]
  },
  {
   "cell_type": "code",
   "execution_count": null,
   "metadata": {},
   "outputs": [],
   "source": [
    "# Saving the detection results \n",
    "pw_utils.save_detection_images(results, os.path.join(\".\",\"demo_output\"), overwrite=False)\n",
    "\n",
    "Image.open(os.path.join(\"demo_output\", \"detected_camera_image_xyz_timestamp_xxx.jpg\")).resize((800, 600))"
   ]
  },
  {
   "cell_type": "code",
   "execution_count": null,
   "metadata": {},
   "outputs": [],
   "source": [
    "# Getting ready for classification...\n",
    "\n",
    "classification_id = 0\n",
    "classified_animals = []\n",
    "for xyxy in results[\"detections\"].xyxy:\n",
    "          # Cropping detection result(s) from original image leveraging detected boxes\n",
    "          cropped_image = orig_image.crop(xyxy)\n",
    "          cropped_image.save(os.path.join(\"demo_output\", str(classification_id)+'_cropped_image.jpg'))\n",
    "            # Performing classification\n",
    "          classification_result = classify_detections.get_classification(cropped_image)\n",
    "          print(classification_result)\n",
    "          classified_animals.append({\"id\": classification_id,\n",
    "                                \"classification\": classification_result,\n",
    "                                \"xyxy\": xyxy})\n",
    "          classification_id = classification_id+1"
   ]
  },
  {
   "cell_type": "code",
   "execution_count": null,
   "metadata": {},
   "outputs": [],
   "source": [
    "# Build classification square\n",
    "orig_image = np.array(orig_image)\n",
    "for animal in classified_animals:\n",
    "    # Classification box attributes\n",
    "    x1 = int(animal[\"xyxy\"][0])\n",
    "    y1 = int(animal[\"xyxy\"][1])\n",
    "    x2 = int(animal[\"xyxy\"][2])\n",
    "    y2 = int(animal[\"xyxy\"][3])\n",
    "    color = (255, 0, 0)\n",
    "    classified_image = cv2.rectangle(orig_image, (x1, y1), (x2, y2), color, 2)\n",
    "    text_len = len(str(animal[\"classification\"]))\n",
    "    # Draw black background rectangle to improve text readability\n",
    "    classified_image = cv2.rectangle(classified_image, (x1, y1), (x2, y1 - 40), color, -1)\n",
    "    animal[\"classification\"][1] = round(animal[\"classification\"][1], 2)\n",
    "    # Add label to classification rectangle\n",
    "    cv2.putText(classified_image, str(animal[\"classification\"]), (x1, y1-10),\n",
    "                 cv2.FONT_HERSHEY_SIMPLEX, 1, (0,0,0), 2)\n",
    "    cimg = Image.fromarray(classified_image)\n",
    "    cimg.save(os.path.join(\"demo_output\",'classified_image.jpg'))\n",
    "display(cimg)"
   ]
  },
  {
   "cell_type": "markdown",
   "metadata": {},
   "source": []
  }
 ],
 "metadata": {
  "kernelspec": {
   "display_name": "wadas",
   "language": "python",
   "name": "python3"
  },
  "language_info": {
   "codemirror_mode": {
    "name": "ipython",
    "version": 3
   },
   "file_extension": ".py",
   "mimetype": "text/x-python",
   "name": "python",
   "nbconvert_exporter": "python",
   "pygments_lexer": "ipython3",
   "version": "3.10.14"
  }
 },
 "nbformat": 4,
 "nbformat_minor": 2
}
